{
  "nbformat": 4,
  "nbformat_minor": 0,
  "metadata": {
    "colab": {
      "provenance": []
    },
    "kernelspec": {
      "name": "python3",
      "display_name": "Python 3"
    },
    "language_info": {
      "name": "python"
    }
  },
  "cells": [
    {
      "cell_type": "markdown",
      "source": [
        "# Практическая работа №1\n"
      ],
      "metadata": {
        "id": "f6PMlmz-87dD"
      }
    },
    {
      "cell_type": "markdown",
      "source": [
        "## Задание №1\n",
        "Напишите функцию, которая присваивает $w_{1}$ и $w_{2}$ случайные веса."
      ],
      "metadata": {
        "id": "zqiwoc2q9SRx"
      }
    },
    {
      "cell_type": "code",
      "source": [
        "from random import randint\n",
        "\n",
        "def generateWeights(w):\n",
        "  for i in range(len(w)):\n",
        "    w[i] = randint(0,100)/100"
      ],
      "metadata": {
        "id": "C6Kg4D6m9L7x"
      },
      "execution_count": null,
      "outputs": []
    },
    {
      "cell_type": "code",
      "source": [
        "WEIGHT_COUNT = 2\n",
        "\n",
        "# Создаём list размерностью WEIGHT_COUNT\n",
        "w = [None] * WEIGHT_COUNT\n",
        "\n",
        "generateWeights(w)\n",
        "\n",
        "print(w)"
      ],
      "metadata": {
        "colab": {
          "base_uri": "https://localhost:8080/"
        },
        "id": "oujAXo9B9cit",
        "outputId": "38c392f7-ae08-4639-81bc-2dad7767fc3a"
      },
      "execution_count": null,
      "outputs": [
        {
          "output_type": "stream",
          "name": "stdout",
          "text": [
            "[0.74, 0.13]\n"
          ]
        }
      ]
    },
    {
      "cell_type": "markdown",
      "source": [
        "## Задание №2\n",
        "Напишите функцию, которая делает проверку сразу всех примеров учебного набора с текущими весами"
      ],
      "metadata": {
        "id": "4c81yJPw-Nsw"
      }
    },
    {
      "cell_type": "code",
      "source": [
        "# x - входные данные\n",
        "# w - веса\n",
        "def predict(x, w):\n",
        "  summator = 0\n",
        "  for i in range(len(w)):\n",
        "    summator += x[i] * w[i]\n",
        "\n",
        "  # Пороговая активация\n",
        "  act = 1 if summator >= 1 else 0\n",
        "\n",
        "  return act"
      ],
      "metadata": {
        "id": "Kifbl8Hc_T6W"
      },
      "execution_count": null,
      "outputs": []
    },
    {
      "cell_type": "code",
      "source": [
        "# x - входные данные\n",
        "# y - истинные данные\n",
        "# w - веса\n",
        "def checkDataset(x, y, w, output=True):\n",
        "  prediction_errors = 0\n",
        "\n",
        "  if output:\n",
        "    print(\"Input | Predicted | TrueOutput | Error\")\n",
        "  for i in range(len(x)):\n",
        "    predicted = predict(x[i], w)\n",
        "\n",
        "    prediction_error = y[i] - predicted\n",
        "    if (prediction_error != 0):\n",
        "      prediction_errors += 1\n",
        "\n",
        "    if output:\n",
        "      print(f\"{x[i]} - {predicted} - {y[i]} - {prediction_error}\")\n",
        "\n",
        "  result = 1 if prediction_errors == 0 else (1 - prediction_errors / len(x))\n",
        "  return result"
      ],
      "metadata": {
        "id": "W1Sv4q7g-LP2"
      },
      "execution_count": null,
      "outputs": []
    },
    {
      "cell_type": "code",
      "source": [
        "x_train = [[1,1], [1,0], [0,1], [0,0]]\n",
        "y_train = [0, 1, 1, 0]\n",
        "\n",
        "print(f'Accuracy: {checkDataset(x_train, y_train, w) * 100}%')"
      ],
      "metadata": {
        "colab": {
          "base_uri": "https://localhost:8080/"
        },
        "id": "VHey46WqBDsu",
        "outputId": "8a10b9c9-9fb6-4b20-9950-b782b2cdc9dc"
      },
      "execution_count": null,
      "outputs": [
        {
          "output_type": "stream",
          "name": "stdout",
          "text": [
            "Input | Predicted | TrueOutput | Error\n",
            "[1, 1] - 0 - 0 - 0\n",
            "[1, 0] - 0 - 1 - 1\n",
            "[0, 1] - 0 - 1 - 1\n",
            "[0, 0] - 0 - 0 - 0\n",
            "Accuracy: 50.0%\n"
          ]
        }
      ]
    },
    {
      "cell_type": "markdown",
      "source": [
        "## Задание №3\n",
        "\n",
        "Со случайными стартовыми весами обучить нейрон дельта методом для следующих операций:\n"
      ],
      "metadata": {
        "id": "1cG5ZUv2BfQf"
      }
    },
    {
      "cell_type": "code",
      "source": [
        "def train(x_train, y_train, w, SPEED = 0.3):\n",
        "  for i in range(len(x_train)):\n",
        "    # Расчет ошибки дельта-методом\n",
        "    error = y_train[i] - predict(x_train[i], w)\n",
        "\n",
        "    if error != 0:\n",
        "      for ii in range(len(w)):\n",
        "        w[ii] = w[ii] + error * x_train[i][ii] * SPEED\n"
      ],
      "metadata": {
        "id": "50JZVXz0CNVT"
      },
      "execution_count": null,
      "outputs": []
    },
    {
      "cell_type": "code",
      "source": [
        "def trainAndCheck(x_train, y_train, MAX_EPOCH_COUNT = 5, SPEED = 0.3):\n",
        "  generateWeights(w)\n",
        "  print(f\"Стартовые веса: {w}\")\n",
        "\n",
        "  accuracy = 0\n",
        "  epoch = 1\n",
        "\n",
        "  while accuracy < 1 and epoch <= MAX_EPOCH_COUNT:\n",
        "    train(x_train, y_train, w)\n",
        "    accuracy = checkDataset(x_train, y_train, w, False)\n",
        "    print(f\"Epoch: {epoch}, Acc: {accuracy * 100}%, Weights: {w}\")\n",
        "\n",
        "    epoch += 1\n",
        "\n",
        "  print(f\"Конечные веса: {w}\")\n",
        "  print(f'Accuracy: {checkDataset(x_train, y_train, w) * 100}%')\n",
        "\n",
        "  return w"
      ],
      "metadata": {
        "id": "yJgk68Z0Ji0Q"
      },
      "execution_count": null,
      "outputs": []
    },
    {
      "cell_type": "markdown",
      "source": [
        "### Конъюнкция"
      ],
      "metadata": {
        "id": "Ab55scQQBqJE"
      }
    },
    {
      "cell_type": "code",
      "source": [
        "trainAndCheck(\n",
        "    [[1, 1], [1, 0], [0, 1], [0, 0]],\n",
        "    [1, 0, 0, 0]\n",
        ")"
      ],
      "metadata": {
        "colab": {
          "base_uri": "https://localhost:8080/"
        },
        "id": "o29b2HnFBeyE",
        "outputId": "1b3ab8c7-528a-4fd5-ddf5-41bd8dbd6de6"
      },
      "execution_count": null,
      "outputs": [
        {
          "output_type": "stream",
          "name": "stdout",
          "text": [
            "Стартовые веса: [0.38, 0.41]\n",
            "Epoch: 1, Acc: 100%, Weights: [0.6799999999999999, 0.71]\n",
            "Конечные веса: [0.6799999999999999, 0.71]\n",
            "Input | Predicted | TrueOutput | Error\n",
            "[1, 1] - 1 - 1 - 0\n",
            "[1, 0] - 0 - 0 - 0\n",
            "[0, 1] - 0 - 0 - 0\n",
            "[0, 0] - 0 - 0 - 0\n",
            "Accuracy: 100%\n"
          ]
        },
        {
          "output_type": "execute_result",
          "data": {
            "text/plain": [
              "[0.6799999999999999, 0.71]"
            ]
          },
          "metadata": {},
          "execution_count": 512
        }
      ]
    },
    {
      "cell_type": "markdown",
      "source": [
        "### Дизъюнкция"
      ],
      "metadata": {
        "id": "FiR8bKE3Bujm"
      }
    },
    {
      "cell_type": "code",
      "source": [
        "trainAndCheck(\n",
        "    [[1, 1], [1, 0], [0, 1], [0, 0]],\n",
        "    [1, 1, 1, 0]\n",
        ")"
      ],
      "metadata": {
        "colab": {
          "base_uri": "https://localhost:8080/"
        },
        "id": "SnFP5ldYBw26",
        "outputId": "5373f4ad-fc68-44ed-d25c-6d9861429f33"
      },
      "execution_count": null,
      "outputs": [
        {
          "output_type": "stream",
          "name": "stdout",
          "text": [
            "Стартовые веса: [0.38, 0.12]\n",
            "Epoch: 1, Acc: 50.0%, Weights: [0.98, 0.72]\n",
            "Epoch: 2, Acc: 100%, Weights: [1.28, 1.02]\n",
            "Конечные веса: [1.28, 1.02]\n",
            "Input | Predicted | TrueOutput | Error\n",
            "[1, 1] - 1 - 1 - 0\n",
            "[1, 0] - 1 - 1 - 0\n",
            "[0, 1] - 1 - 1 - 0\n",
            "[0, 0] - 0 - 0 - 0\n",
            "Accuracy: 100%\n"
          ]
        },
        {
          "output_type": "execute_result",
          "data": {
            "text/plain": [
              "[1.28, 1.02]"
            ]
          },
          "metadata": {},
          "execution_count": 513
        }
      ]
    },
    {
      "cell_type": "markdown",
      "source": [
        "### XOR"
      ],
      "metadata": {
        "id": "aQ7_UHfhBxWL"
      }
    },
    {
      "cell_type": "code",
      "source": [
        "trainAndCheck(\n",
        "    [[1, 1], [1, 0], [0, 1], [0, 0]],\n",
        "    [0, 1, 1, 0]\n",
        ")"
      ],
      "metadata": {
        "colab": {
          "base_uri": "https://localhost:8080/"
        },
        "id": "RYqeW2BWB5x1",
        "outputId": "7b578b61-8572-4b07-8d5a-3ba4792b2a30"
      },
      "execution_count": null,
      "outputs": [
        {
          "output_type": "stream",
          "name": "stdout",
          "text": [
            "Стартовые веса: [0.05, 0.6]\n",
            "Epoch: 1, Acc: 25.0%, Weights: [0.35, 0.8999999999999999]\n",
            "Epoch: 2, Acc: 25.0%, Weights: [0.35, 0.8999999999999999]\n",
            "Epoch: 3, Acc: 25.0%, Weights: [0.35, 0.8999999999999999]\n",
            "Epoch: 4, Acc: 25.0%, Weights: [0.35, 0.8999999999999999]\n",
            "Epoch: 5, Acc: 25.0%, Weights: [0.35, 0.8999999999999999]\n",
            "Конечные веса: [0.35, 0.8999999999999999]\n",
            "Input | Predicted | TrueOutput | Error\n",
            "[1, 1] - 1 - 0 - -1\n",
            "[1, 0] - 0 - 1 - 1\n",
            "[0, 1] - 0 - 1 - 1\n",
            "[0, 0] - 0 - 0 - 0\n",
            "Accuracy: 25.0%\n"
          ]
        },
        {
          "output_type": "execute_result",
          "data": {
            "text/plain": [
              "[0.35, 0.8999999999999999]"
            ]
          },
          "metadata": {},
          "execution_count": 514
        }
      ]
    },
    {
      "cell_type": "markdown",
      "source": [
        "### Конъюнкция отрицания $x_{1}$ и $x_{2}$"
      ],
      "metadata": {
        "id": "CpqjXYgxBzO1"
      }
    },
    {
      "cell_type": "code",
      "source": [
        "conNotX1AndX2 = trainAndCheck(\n",
        "    [[1, 1], [1, 0], [0, 1], [0, 0]],\n",
        "    [0, 0, 1, 0]\n",
        ")\n",
        "print(conNotX1AndX2)"
      ],
      "metadata": {
        "colab": {
          "base_uri": "https://localhost:8080/"
        },
        "id": "B1sB22tGB6G0",
        "outputId": "16fb80bc-b2e1-4f5c-bf0a-b57b6d72a361"
      },
      "execution_count": null,
      "outputs": [
        {
          "output_type": "stream",
          "name": "stdout",
          "text": [
            "Стартовые веса: [0.76, 0.24]\n",
            "Epoch: 1, Acc: 75.0%, Weights: [0.46, 0.24]\n",
            "Epoch: 2, Acc: 50.0%, Weights: [0.46, 0.54]\n",
            "Epoch: 3, Acc: 75.0%, Weights: [0.16000000000000003, 0.54]\n",
            "Epoch: 4, Acc: 50.0%, Weights: [0.16000000000000003, 0.8400000000000001]\n",
            "Epoch: 5, Acc: 75.0%, Weights: [-0.13999999999999996, 0.8400000000000001]\n",
            "Конечные веса: [-0.13999999999999996, 0.8400000000000001]\n",
            "Input | Predicted | TrueOutput | Error\n",
            "[1, 1] - 0 - 0 - 0\n",
            "[1, 0] - 0 - 0 - 0\n",
            "[0, 1] - 0 - 1 - 1\n",
            "[0, 0] - 0 - 0 - 0\n",
            "Accuracy: 75.0%\n",
            "[-0.13999999999999996, 0.8400000000000001]\n"
          ]
        }
      ]
    },
    {
      "cell_type": "markdown",
      "source": [
        "### Конъюнкция $x_{1}$ и отрицания $x_{2}$"
      ],
      "metadata": {
        "id": "2voR-1iyB6ds"
      }
    },
    {
      "cell_type": "code",
      "source": [
        "conX1AndNotX2 = trainAndCheck(\n",
        "    [[1, 1], [1, 0], [0, 1], [0, 0]],\n",
        "    [0, 1, 0, 0]\n",
        ")\n",
        "print(conX1AndNotX2)"
      ],
      "metadata": {
        "colab": {
          "base_uri": "https://localhost:8080/"
        },
        "id": "uhyTbS9oB-nO",
        "outputId": "8f287973-81b1-4f5e-be20-4642fdde9941"
      },
      "execution_count": null,
      "outputs": [
        {
          "output_type": "stream",
          "name": "stdout",
          "text": [
            "Стартовые веса: [0.7, 0.69]\n",
            "Epoch: 1, Acc: 50.0%, Weights: [0.7, 0.38999999999999996]\n",
            "Epoch: 2, Acc: 75.0%, Weights: [0.7, 0.08999999999999997]\n",
            "Epoch: 3, Acc: 75.0%, Weights: [1.0, 0.08999999999999997]\n",
            "Epoch: 4, Acc: 100%, Weights: [1.0, -0.21000000000000002]\n",
            "Конечные веса: [1.0, -0.21000000000000002]\n",
            "Input | Predicted | TrueOutput | Error\n",
            "[1, 1] - 0 - 0 - 0\n",
            "[1, 0] - 1 - 1 - 0\n",
            "[0, 1] - 0 - 0 - 0\n",
            "[0, 0] - 0 - 0 - 0\n",
            "Accuracy: 100%\n",
            "[1.0, -0.21000000000000002]\n"
          ]
        }
      ]
    },
    {
      "cell_type": "markdown",
      "source": [
        "## Задание №4\n",
        "Изменить кодировку данных и функцию активации.\n",
        "Новые параметры:\n",
        "- $1$ - истина, $-1$ - ложь;\n",
        "- Функция активации: пороговая;\n",
        "- Если полученное значение больше $0$, результат = $1$, иначе = $-1$"
      ],
      "metadata": {
        "id": "zFXi7FjrKNGB"
      }
    },
    {
      "cell_type": "code",
      "source": [
        "# Вернем назад функцию predict\n",
        "\n",
        "# x - входные данные\n",
        "# w - веса\n",
        "def predict(x, w):\n",
        "  summator = 0\n",
        "  for i in range(len(w)):\n",
        "    summator += x[i] * w[i]\n",
        "\n",
        "  # Пороговая активация\n",
        "  act = 1 if summator >= 0 else -1\n",
        "\n",
        "  return act"
      ],
      "metadata": {
        "id": "4NgwoSIvKeH7"
      },
      "execution_count": null,
      "outputs": []
    },
    {
      "cell_type": "code",
      "source": [
        "trainAndCheck(\n",
        "    [[1, 1], [1, 0], [0, 1], [0, 0]],\n",
        "    [1, 0, 0, 0]\n",
        ")"
      ],
      "metadata": {
        "colab": {
          "base_uri": "https://localhost:8080/"
        },
        "id": "AIG9c-1rLY_H",
        "outputId": "172a3bb1-88fe-4020-d125-f35c546ce3b1"
      },
      "execution_count": null,
      "outputs": [
        {
          "output_type": "stream",
          "name": "stdout",
          "text": [
            "Стартовые веса: [0.5, 0.57]\n",
            "Epoch: 1, Acc: 25.0%, Weights: [0.2, 0.26999999999999996]\n",
            "Epoch: 2, Acc: 0.0%, Weights: [-0.09999999999999998, -0.030000000000000027]\n",
            "Epoch: 3, Acc: 25.0%, Weights: [0.2, 0.26999999999999996]\n",
            "Epoch: 4, Acc: 0.0%, Weights: [-0.09999999999999998, -0.030000000000000027]\n",
            "Epoch: 5, Acc: 25.0%, Weights: [0.2, 0.26999999999999996]\n",
            "Конечные веса: [0.2, 0.26999999999999996]\n",
            "Input | Predicted | TrueOutput | Error\n",
            "[1, 1] - 1 - 1 - 0\n",
            "[1, 0] - 1 - 0 - -1\n",
            "[0, 1] - 1 - 0 - -1\n",
            "[0, 0] - 1 - 0 - -1\n",
            "Accuracy: 25.0%\n"
          ]
        },
        {
          "output_type": "execute_result",
          "data": {
            "text/plain": [
              "[0.2, 0.26999999999999996]"
            ]
          },
          "metadata": {},
          "execution_count": 518
        }
      ]
    },
    {
      "cell_type": "markdown",
      "source": [],
      "metadata": {
        "id": "XeG0kpT6O15S"
      }
    },
    {
      "cell_type": "markdown",
      "source": [
        "## Задание №5\n",
        "Добавить ещё один вход данных на нейрон (на дополнительный вход всегда приходит единица, это аналог нейрона смещения)\n"
      ],
      "metadata": {
        "id": "_pU8MM9pO66P"
      }
    },
    {
      "cell_type": "code",
      "source": [
        "# x - входные данные\n",
        "# w - веса\n",
        "def predict(x, w):\n",
        "  summator = 0\n",
        "  for i in range(len(w)):\n",
        "    summator += x[i] * w[i]\n",
        "\n",
        "  # Пороговая активация\n",
        "  act = 1 if summator >= 1 else 0\n",
        "\n",
        "  return act"
      ],
      "metadata": {
        "id": "n9IUXWAvnQlX"
      },
      "execution_count": null,
      "outputs": []
    },
    {
      "cell_type": "code",
      "source": [
        "WEIGHT_COUNT = 3\n",
        "w = [None] * WEIGHT_COUNT\n",
        "\n",
        "trainAndCheck(\n",
        "    [[1, 1, 0], [1, 0, 1], [0, 1, 1], [0, 0, 1]],\n",
        "    [0, 1, 1, 0],\n",
        "    MAX_EPOCH_COUNT = 10,\n",
        "    SPEED = 0.2\n",
        ")"
      ],
      "metadata": {
        "colab": {
          "base_uri": "https://localhost:8080/"
        },
        "id": "nLsm3Dh6O3nh",
        "outputId": "53adeef6-9e04-4a0a-e266-cd6782743661"
      },
      "execution_count": null,
      "outputs": [
        {
          "output_type": "stream",
          "name": "stdout",
          "text": [
            "Стартовые веса: [0.08, 0.08, 0.97]\n",
            "Epoch: 1, Acc: 100%, Weights: [0.08, 0.08, 0.97]\n",
            "Конечные веса: [0.08, 0.08, 0.97]\n",
            "Input | Predicted | TrueOutput | Error\n",
            "[1, 1, 0] - 0 - 0 - 0\n",
            "[1, 0, 1] - 1 - 1 - 0\n",
            "[0, 1, 1] - 1 - 1 - 0\n",
            "[0, 0, 1] - 0 - 0 - 0\n",
            "Accuracy: 100%\n"
          ]
        },
        {
          "output_type": "execute_result",
          "data": {
            "text/plain": [
              "[0.08, 0.08, 0.97]"
            ]
          },
          "metadata": {},
          "execution_count": 520
        }
      ]
    },
    {
      "cell_type": "code",
      "source": [
        "def predictDeep(x, w0, w1, w):\n",
        "  act1 = predict(x, w0) * w[0]\n",
        "  act2 = predict(x, w1) * w[1]\n",
        "  summator = act1 + act2\n",
        "\n",
        "  act = 1 if summator >= 0.5 else 0\n",
        "  return act"
      ],
      "metadata": {
        "id": "f-CNg21WrbEx"
      },
      "execution_count": null,
      "outputs": []
    },
    {
      "cell_type": "code",
      "source": [
        "# x - входные данные\n",
        "# y - истинные данные\n",
        "# w - веса\n",
        "def checkDatasetDeep(x, y, w0, w1, w, output=True):\n",
        "  prediction_errors = 0\n",
        "\n",
        "  if output:\n",
        "    print(\"Input | Predicted | TrueOutput | Error\")\n",
        "  for i in range(len(x)):\n",
        "    predicted = predictDeep(x[i], w0, w1, w)\n",
        "\n",
        "    prediction_error = y[i] - predicted\n",
        "    if (prediction_error != 0):\n",
        "      prediction_errors += 1\n",
        "\n",
        "    if output:\n",
        "      print(f\"{x[i]} - {predicted} - {y[i]} - {prediction_error}\")\n",
        "\n",
        "  result = 1 if prediction_errors == 0 else (1 - prediction_errors / len(x))\n",
        "  return result"
      ],
      "metadata": {
        "id": "s1FizNOXsVyz"
      },
      "execution_count": null,
      "outputs": []
    },
    {
      "cell_type": "code",
      "source": [
        "conNotX1AndX2"
      ],
      "metadata": {
        "colab": {
          "base_uri": "https://localhost:8080/"
        },
        "id": "O4zeGUERty_0",
        "outputId": "a02b89c7-c76b-4882-817b-049c50dfb6a1"
      },
      "execution_count": null,
      "outputs": [
        {
          "output_type": "execute_result",
          "data": {
            "text/plain": [
              "[0.2, 0.26999999999999996]"
            ]
          },
          "metadata": {},
          "execution_count": 523
        }
      ]
    },
    {
      "cell_type": "code",
      "source": [
        "conX1AndNotX2"
      ],
      "metadata": {
        "colab": {
          "base_uri": "https://localhost:8080/"
        },
        "id": "w1vMLy6gt1xK",
        "outputId": "729e45d4-37e3-456b-ae41-90d5a353a718"
      },
      "execution_count": null,
      "outputs": [
        {
          "output_type": "execute_result",
          "data": {
            "text/plain": [
              "[0.2, 0.26999999999999996]"
            ]
          },
          "metadata": {},
          "execution_count": 524
        }
      ]
    },
    {
      "cell_type": "code",
      "source": [
        "checkDatasetDeep(\n",
        "    [[1, 1], [1, 0], [0, 1], [0, 0]],\n",
        "    [0, 1, 1, 0],\n",
        "    [-0.4099999999999999, 1.2000000000000002],\n",
        "    [1.1700000000000002, -0.33],\n",
        "    [0.5, 0.5]\n",
        ")"
      ],
      "metadata": {
        "colab": {
          "base_uri": "https://localhost:8080/"
        },
        "id": "mL6pERjPsslH",
        "outputId": "be31d13b-4e9b-4e71-8e45-45f5f3dd2ff9"
      },
      "execution_count": null,
      "outputs": [
        {
          "output_type": "stream",
          "name": "stdout",
          "text": [
            "Input | Predicted | TrueOutput | Error\n",
            "[1, 1] - 0 - 0 - 0\n",
            "[1, 0] - 1 - 1 - 0\n",
            "[0, 1] - 1 - 1 - 0\n",
            "[0, 0] - 0 - 0 - 0\n"
          ]
        },
        {
          "output_type": "execute_result",
          "data": {
            "text/plain": [
              "1"
            ]
          },
          "metadata": {},
          "execution_count": 527
        }
      ]
    }
  ]
}
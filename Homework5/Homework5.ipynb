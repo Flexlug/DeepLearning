{
  "nbformat": 4,
  "nbformat_minor": 0,
  "metadata": {
    "colab": {
      "provenance": [],
      "collapsed_sections": [
        "5BrXVv2VxhmO"
      ]
    },
    "kernelspec": {
      "name": "python3",
      "display_name": "Python 3"
    },
    "language_info": {
      "name": "python"
    }
  },
  "cells": [
    {
      "cell_type": "markdown",
      "source": [
        "# Задание 1. Использование предобученной модели"
      ],
      "metadata": {
        "id": "5BrXVv2VxhmO"
      }
    },
    {
      "cell_type": "markdown",
      "source": [
        "## 1.1. Выберите и импортируйте предобученную модель СНС для решения задач классификации из имеющихся в Keras: https://keras.io/api/applications/"
      ],
      "metadata": {
        "id": "sLqK_i6vyUYC"
      }
    },
    {
      "cell_type": "code",
      "execution_count": null,
      "metadata": {
        "id": "8DQf2nQXxapJ"
      },
      "outputs": [],
      "source": [
        "# Ваш код"
      ]
    },
    {
      "cell_type": "markdown",
      "source": [
        "## 1.2. Загрузите из сети Интернет 5 изображений с разными классами, из тех, что приведены в [списке](https://gist.github.com/yrevar/942d3a0ac09ec9e5eb3a), и сохраните их представление в список images"
      ],
      "metadata": {
        "id": "ApjYOesMy4eY"
      }
    },
    {
      "cell_type": "code",
      "execution_count": null,
      "metadata": {
        "id": "p1JMUwq3zZnJ"
      },
      "outputs": [],
      "source": [
        "# Ваш код"
      ]
    },
    {
      "cell_type": "markdown",
      "source": [
        "## 1.3. Напишите функцию, принимающую на вход список с исходными изображениями и возвращающую список с преобразованными изображениями под формат входных данных выбранной Вами модели СНС."
      ],
      "metadata": {
        "id": "f1j5fAr2y4s9"
      }
    },
    {
      "cell_type": "markdown",
      "source": [
        "(Не забудьте создать независимую копию исходного списка в теле функции, для обработки именно независимой копии, а не оригинального списка)"
      ],
      "metadata": {
        "id": "BqXyvEzH1q4F"
      }
    },
    {
      "cell_type": "code",
      "execution_count": null,
      "metadata": {
        "id": "fSJPTsIazZ7Z"
      },
      "outputs": [],
      "source": [
        "# Ваш код"
      ]
    },
    {
      "cell_type": "markdown",
      "source": [
        "## 1.4. Напишите функцию, принимающую на вход список с представлениями обработаннах изображений (результат работы функции из п. 1.3.) и возвращающую список предсказанных нейросетью классов. "
      ],
      "metadata": {
        "id": "izEzHhVA0zo8"
      }
    },
    {
      "cell_type": "code",
      "execution_count": null,
      "metadata": {
        "id": "EE8iHIJK0zo-"
      },
      "outputs": [],
      "source": [
        "# Ваш код"
      ]
    },
    {
      "cell_type": "markdown",
      "source": [
        "## 1.5. Выведите изображения и соответствующие им классы, вызывая соответствующие функции"
      ],
      "metadata": {
        "id": "rdwMPqNh0z6j"
      }
    },
    {
      "cell_type": "code",
      "execution_count": null,
      "metadata": {
        "id": "VG_Ded0x0z6j"
      },
      "outputs": [],
      "source": [
        "# Ваш код"
      ]
    },
    {
      "cell_type": "markdown",
      "source": [],
      "metadata": {
        "id": "wdnYd5STxhul"
      }
    },
    {
      "cell_type": "markdown",
      "source": [],
      "metadata": {
        "id": "db_W4puRxhz6"
      }
    },
    {
      "cell_type": "markdown",
      "source": [
        "# Задание 2. Использование обученной модели для работы со своим датасетом"
      ],
      "metadata": {
        "id": "dvOnWAY2Gplw"
      }
    },
    {
      "cell_type": "markdown",
      "source": [
        "## 2.1. Выберите и импортируйте предобученную модель СНС для решения задач классификации из имеющихся в Keras: https://keras.io/api/applications/"
      ],
      "metadata": {
        "id": "68mMU7AaGpl4"
      }
    },
    {
      "cell_type": "code",
      "execution_count": null,
      "metadata": {
        "id": "gRn8SOiLGpl4"
      },
      "outputs": [],
      "source": [
        "# Ваш код"
      ]
    },
    {
      "cell_type": "markdown",
      "metadata": {
        "id": "Ir0q0GyfgmSI"
      },
      "source": [
        "## 2.2. Подготовка тренировочных данных. Разделение на обучающую и тестовую выборку"
      ]
    },
    {
      "cell_type": "code",
      "execution_count": null,
      "metadata": {
        "id": "aaoN-NebJSDB"
      },
      "outputs": [],
      "source": [
        "# Ваш код"
      ]
    },
    {
      "cell_type": "markdown",
      "metadata": {
        "id": "jK5tHnEpggbu"
      },
      "source": [
        "## 2.3. Обучение своей модели на основе предобученной модели \\*НАЗВАНИЕ_МОДЕЛИ\\*"
      ]
    },
    {
      "cell_type": "code",
      "execution_count": null,
      "metadata": {
        "id": "6hB-FMlZJSdZ"
      },
      "outputs": [],
      "source": [
        "# Ваш код"
      ]
    },
    {
      "cell_type": "markdown",
      "source": [
        "## 2.3. Создаем свою модель на основе \\*НАЗВАНИЕ_МОДЕЛИ\\*"
      ],
      "metadata": {
        "id": "j74wxmju6V1d"
      }
    },
    {
      "cell_type": "code",
      "execution_count": null,
      "metadata": {
        "id": "Ie3ij4RDJS1o"
      },
      "outputs": [],
      "source": [
        "# Ваш код"
      ]
    },
    {
      "cell_type": "markdown",
      "metadata": {
        "id": "ggs5y5NcgcAH"
      },
      "source": [
        "## 2.4. Визуализация процесса обучения модели"
      ]
    },
    {
      "cell_type": "code",
      "execution_count": null,
      "metadata": {
        "id": "McEVBEDNJTBX"
      },
      "outputs": [],
      "source": [
        "# Ваш код"
      ]
    },
    {
      "cell_type": "markdown",
      "metadata": {
        "id": "dE5MsVdegXVj"
      },
      "source": [
        "## 2.5. Подготовьте набор проверочных данных см. Задание №1 (п. 1.2, 1.3, 1.4)"
      ]
    },
    {
      "cell_type": "code",
      "execution_count": null,
      "metadata": {
        "id": "3dIj9cRAJTmd"
      },
      "outputs": [],
      "source": [
        "# Ваш код"
      ]
    },
    {
      "cell_type": "markdown",
      "metadata": {
        "id": "uze5snC5KU1g"
      },
      "source": [
        "## 2.6. Организуйте вывод изображений и соответствующих им классов"
      ]
    },
    {
      "cell_type": "code",
      "execution_count": null,
      "metadata": {
        "id": "c9T3tqh5KU1g"
      },
      "outputs": [],
      "source": [
        "# Ваш код"
      ]
    }
  ]
}
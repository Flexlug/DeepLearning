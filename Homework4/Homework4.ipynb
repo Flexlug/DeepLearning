{
  "nbformat": 4,
  "nbformat_minor": 0,
  "metadata": {
    "colab": {
      "provenance": [],
      "collapsed_sections": [
        "386TvloP3lJF"
      ]
    },
    "kernelspec": {
      "name": "python3",
      "display_name": "Python 3"
    },
    "language_info": {
      "name": "python"
    }
  },
  "cells": [
    {
      "cell_type": "markdown",
      "source": [
        "# Построение сверточной нейронной сети для классификации изображений из датасета CIFAR-100, с использованием BatchNormalization() и Dropout()"
      ],
      "metadata": {
        "id": "5FTzd6Tr1HE6"
      }
    },
    {
      "cell_type": "markdown",
      "source": [
        "[Код с пары](https://colab.research.google.com/drive/1cvPrPI09ySQy-D92gKTzmanVi2cj5Gw_?usp=sharing)"
      ],
      "metadata": {
        "id": "gdX9a26i5B-4"
      }
    },
    {
      "cell_type": "markdown",
      "source": [
        "### Задание 1. Загрузите исходный датасет. Разделите его на обучающую и тестовую выборки. Визуализируйте несколько изображений из датасета. Произведите нормализацию данных. \n",
        "\n",
        "\n",
        "*P.S.: Не забудьте обратить внимание на размерность (shape) исходных данных и при необходимости измените её (см. примеры из предыдущих занятий)*\n",
        "\n",
        "[Информация о датасете в Kaggle](https://www.kaggle.com/datasets/fedesoriano/cifar100?resource=download&select=meta)\n",
        "\n",
        "[Техническая документация по использованию датасета в Keras](https://keras.io/api/datasets/cifar100/)\n",
        "\n",
        "\n",
        "\n"
      ],
      "metadata": {
        "id": "PegOFe6t0NPk"
      }
    },
    {
      "cell_type": "code",
      "execution_count": null,
      "metadata": {
        "id": "SSerkZhqz-Zu"
      },
      "outputs": [],
      "source": [
        "# Ваш код #"
      ]
    },
    {
      "cell_type": "markdown",
      "source": [
        "### Задание 2. Создайте модель сверточной нейронной сети для решения поставленной задачи без использования BatchNormalization() и Dropout(). \n",
        "\n",
        "Имя данной модели: model_1"
      ],
      "metadata": {
        "id": "ne7OBLid0NY-"
      }
    },
    {
      "cell_type": "code",
      "source": [
        "# Ваш код #"
      ],
      "metadata": {
        "id": "Gy0_n8G03kcU"
      },
      "execution_count": null,
      "outputs": []
    },
    {
      "cell_type": "markdown",
      "source": [
        "Обучите созданную модель"
      ],
      "metadata": {
        "id": "69zrqqaA5kOd"
      }
    },
    {
      "cell_type": "code",
      "source": [
        "# Ваш код #"
      ],
      "metadata": {
        "id": "6uBAnPDU5s5I"
      },
      "execution_count": null,
      "outputs": []
    },
    {
      "cell_type": "markdown",
      "source": [
        "### Задание 3. Создайте модель сверточной нейронной сети для решения поставленной задачи с использованием BatchNormalization(). \n",
        "\n",
        "Имя данной модели: model_2"
      ],
      "metadata": {
        "id": "07x5ciPl0Njy"
      }
    },
    {
      "cell_type": "code",
      "source": [
        "# Ваш код #"
      ],
      "metadata": {
        "id": "vy9H9gcJ3kzl"
      },
      "execution_count": null,
      "outputs": []
    },
    {
      "cell_type": "markdown",
      "source": [
        "Обучите созданную модель"
      ],
      "metadata": {
        "id": "7vrswF436DNo"
      }
    },
    {
      "cell_type": "code",
      "source": [
        "# Ваш код #"
      ],
      "metadata": {
        "id": "2xOOok5l6DNo"
      },
      "execution_count": null,
      "outputs": []
    },
    {
      "cell_type": "markdown",
      "source": [
        "### Задание 4. Создайте модель сверточной нейронной сети для решения поставленной задачи с использованием Dropout(). \n",
        "\n",
        "Имя данной модели: model_3"
      ],
      "metadata": {
        "id": "386TvloP3lJF"
      }
    },
    {
      "cell_type": "code",
      "source": [
        "# Ваш код #"
      ],
      "metadata": {
        "id": "e-tkmz9d3lXx"
      },
      "execution_count": null,
      "outputs": []
    },
    {
      "cell_type": "markdown",
      "source": [
        "Обучите созданную модель"
      ],
      "metadata": {
        "id": "hehT-6re6RXv"
      }
    },
    {
      "cell_type": "code",
      "source": [
        "# Ваш код #"
      ],
      "metadata": {
        "id": "c6HNFpOE6RXw"
      },
      "execution_count": null,
      "outputs": []
    },
    {
      "cell_type": "markdown",
      "source": [
        "### Задание 5. Создайте модель сверточной нейронной сети для решения поставленной задачи с использованием Dropout() и BatchNormalization().\n",
        "\n",
        "См. рекомендации [здесь](https://stackoverflow.com/questions/39691902/ordering-of-batch-normalization-and-dropout) и [здесь](https://www.kaggle.com/code/ryanholbrook/dropout-and-batch-normalization/)\n",
        "\n",
        "Имя данной модели: model_4"
      ],
      "metadata": {
        "id": "qz2qhKtu7Jgf"
      }
    },
    {
      "cell_type": "code",
      "source": [
        "# Ваш код #"
      ],
      "metadata": {
        "id": "dVuNM8lI7Jgo"
      },
      "execution_count": null,
      "outputs": []
    },
    {
      "cell_type": "markdown",
      "source": [
        "Обучите созданную модель"
      ],
      "metadata": {
        "id": "nES6ENxq7Jgp"
      }
    },
    {
      "cell_type": "code",
      "source": [
        "# Ваш код #"
      ],
      "metadata": {
        "id": "SWIPC22-7Jgp"
      },
      "execution_count": null,
      "outputs": []
    },
    {
      "cell_type": "markdown",
      "source": [
        "### Задание 5. Пойстройте график обучения для каждой модели. Сделайте выводы по каждому из них. Подведите итог и выделите наиболее удачную модель"
      ],
      "metadata": {
        "id": "Y7QF9bQh72eV"
      }
    },
    {
      "cell_type": "code",
      "source": [
        "# Ваш код #"
      ],
      "metadata": {
        "id": "HvqpPVoV72te"
      },
      "execution_count": null,
      "outputs": []
    },
    {
      "cell_type": "markdown",
      "source": [
        "Ваши выводы"
      ],
      "metadata": {
        "id": "Ogg1lwqm9jKe"
      }
    },
    {
      "cell_type": "markdown",
      "source": [
        "Ваш итог"
      ],
      "metadata": {
        "id": "N9mdlVQc9jUb"
      }
    }
  ]
}